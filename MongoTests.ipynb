{
 "cells": [
  {
   "cell_type": "code",
   "execution_count": 1,
   "metadata": {
    "ExecuteTime": {
     "end_time": "2020-05-09T11:45:38.952372Z",
     "start_time": "2020-05-09T11:45:38.825276Z"
    }
   },
   "outputs": [],
   "source": [
    "import pymongo  # package for working with MongoDB\n",
    "client = pymongo.MongoClient(\"mongodb://localhost:27017/\")\n",
    "client.list_database_names()\n",
    "db = client[\"kontakts\"]\n",
    "kontakts = db[\"kontakts\"]"
   ]
  },
  {
   "cell_type": "code",
   "execution_count": 3,
   "metadata": {
    "ExecuteTime": {
     "end_time": "2020-05-12T15:07:27.219157Z",
     "start_time": "2020-05-09T11:47:46.950528Z"
    }
   },
   "outputs": [
    {
     "name": "stderr",
     "output_type": "stream",
     "text": [
      "/Users/cosy/miniconda3/lib/python3.7/site-packages/ipykernel_launcher.py:10: DeprecationWarning: insert is deprecated. Use insert_one or insert_many instead.\n",
      "  # Remove the CWD from sys.path while we load stuff.\n"
     ]
    }
   ],
   "source": [
    "with open('./data/kontakte 2018.csv','r',buffering = 200000000)as f:\n",
    "    for line in f:\n",
    "        line_s=line.split(\";\")\n",
    "        kontakts.insert({'Fachgebietsgruppe':line_s[0], \n",
    "                         \"Behandlungsart\":line_s[1],\n",
    "                         \"Kontaktdatum\": line[2],\n",
    "                         \"Patient-ID;\":line_s[3],\n",
    "                         \"GC (Q)\":line_s[3],\n",
    "                         \"Leistungserbringer-ID\":line_s[4],\n",
    "                         \"GC (Z)\":line_s[5]\n",
    "                        })"
   ]
  },
  {
   "cell_type": "code",
   "execution_count": 12,
   "metadata": {
    "ExecuteTime": {
     "end_time": "2020-05-08T14:25:13.264201Z",
     "start_time": "2020-05-08T14:25:13.242736Z"
    }
   },
   "outputs": [
    {
     "name": "stdout",
     "output_type": "stream",
     "text": [
      "{'_id': ObjectId('5eb56a213b53f72e96c9c67e'), 'name': 'Amy', 'address': 'Apple st 652'}\n",
      "{'_id': ObjectId('5eb56a213b53f72e96c9c67f'), 'name': 'Hannah', 'address': 'Mountain 21'}\n",
      "{'_id': ObjectId('5eb56a213b53f72e96c9c680'), 'name': 'Michael', 'address': 'Valley 345'}\n",
      "{'_id': ObjectId('5eb56a213b53f72e96c9c681'), 'name': 'Sandy', 'address': 'Ocean blvd 2'}\n",
      "{'_id': ObjectId('5eb56a213b53f72e96c9c682'), 'name': 'Betty', 'address': 'Green Grass 1'}\n",
      "{'_id': ObjectId('5eb56a213b53f72e96c9c683'), 'name': 'Richard', 'address': 'Sky st 331'}\n",
      "{'_id': ObjectId('5eb56a213b53f72e96c9c684'), 'name': 'Susan', 'address': 'One way 98'}\n",
      "{'_id': ObjectId('5eb56a213b53f72e96c9c685'), 'name': 'Vicky', 'address': 'Yellow Garden 2'}\n",
      "{'_id': ObjectId('5eb56a213b53f72e96c9c686'), 'name': 'Ben', 'address': 'Park Lane 38'}\n",
      "{'_id': ObjectId('5eb56a213b53f72e96c9c687'), 'name': 'William', 'address': 'Central st 954'}\n",
      "{'_id': ObjectId('5eb56a213b53f72e96c9c688'), 'name': 'Chuck', 'address': 'Main Road 989'}\n",
      "{'_id': ObjectId('5eb56a213b53f72e96c9c689'), 'name': 'Viola', 'address': 'Sideway 1633'}\n"
     ]
    }
   ],
   "source": [
    "db = client['kontakts']\n",
    "kontakts = db[\"kontakts\"]\n",
    "for kontakt in kontakts.find():\n",
    "    print(kontakt)"
   ]
  },
  {
   "cell_type": "code",
   "execution_count": null,
   "metadata": {},
   "outputs": [],
   "source": []
  }
 ],
 "metadata": {
  "kernelspec": {
   "display_name": "Python 3",
   "language": "python",
   "name": "python3"
  },
  "language_info": {
   "codemirror_mode": {
    "name": "ipython",
    "version": 3
   },
   "file_extension": ".py",
   "mimetype": "text/x-python",
   "name": "python",
   "nbconvert_exporter": "python",
   "pygments_lexer": "ipython3",
   "version": "3.7.4"
  },
  "toc": {
   "base_numbering": 1,
   "nav_menu": {},
   "number_sections": true,
   "sideBar": true,
   "skip_h1_title": false,
   "title_cell": "Table of Contents",
   "title_sidebar": "Contents",
   "toc_cell": false,
   "toc_position": {},
   "toc_section_display": true,
   "toc_window_display": false
  }
 },
 "nbformat": 4,
 "nbformat_minor": 2
}
