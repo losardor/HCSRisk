{
 "cells": [
  {
   "cell_type": "code",
   "execution_count": 1,
   "metadata": {},
   "outputs": [],
   "source": [
    "from Dynamics import *\n",
    "import pandas as pd"
   ]
  },
  {
   "cell_type": "code",
   "execution_count": 17,
   "metadata": {},
   "outputs": [],
   "source": [
    "#params\n",
    "C=0.5"
   ]
  },
  {
   "cell_type": "code",
   "execution_count": 18,
   "metadata": {
    "scrolled": false
   },
   "outputs": [],
   "source": [
    "adj,mean_patient, docIds = LoadMatData(22)"
   ]
  },
  {
   "cell_type": "code",
   "execution_count": 19,
   "metadata": {},
   "outputs": [],
   "source": [
    "docs = doctors(len(docIds), mean_patient, C, ids = list(docIds))"
   ]
  },
  {
   "cell_type": "code",
   "execution_count": 20,
   "metadata": {},
   "outputs": [
    {
     "data": {
      "text/plain": [
       "array([  144,  1105,   783,  1148,  1133,  1208,   898,  1170,   482,\n",
       "         367,  1550,   898,  1246,  1379,   353,   356,   803,  1159,\n",
       "         367,   866,   295,  1185,   768,  1541,   625,   759,   919,\n",
       "         562,   994,  1473,   807,  1469,  1333,   814,  2032,  1251,\n",
       "        1278,  1132,  1573, 23788,  1343,  1456,  2002,  1143,   734,\n",
       "        1077,   798,   787,  1026,  1428,   523,  1410,  1128,   413,\n",
       "         761,   661,   850,   575,   218,  1004,   706,  1313,  2019,\n",
       "        1729,  1390,  1132,  1271,  1243,  1300,  1405,  1092,   693,\n",
       "         101,    57,  2133,   991,  1166,  1104,  1188,  2188,   738,\n",
       "        1510,   235])"
      ]
     },
     "execution_count": 20,
     "metadata": {},
     "output_type": "execute_result"
    }
   ],
   "source": [
    "docs.NumOfPatients"
   ]
  },
  {
   "cell_type": "code",
   "execution_count": 21,
   "metadata": {},
   "outputs": [
    {
     "name": "stdout",
     "output_type": "stream",
     "text": [
      "[6344 6443]\n"
     ]
    }
   ],
   "source": [
    "failed = remove_doctors(docs.originalID, 2)\n",
    "print(failed)"
   ]
  },
  {
   "cell_type": "code",
   "execution_count": 22,
   "metadata": {},
   "outputs": [],
   "source": [
    "totalpatients = docs.NumOfPatients[np.isin(docs.originalID,failed)].sum()"
   ]
  },
  {
   "cell_type": "code",
   "execution_count": 23,
   "metadata": {},
   "outputs": [
    {
     "data": {
      "text/plain": [
       "2705"
      ]
     },
     "execution_count": 23,
     "metadata": {},
     "output_type": "execute_result"
    }
   ],
   "source": [
    "totalpatients"
   ]
  },
  {
   "cell_type": "code",
   "execution_count": 24,
   "metadata": {},
   "outputs": [
    {
     "name": "stdout",
     "output_type": "stream",
     "text": [
      "(83, 1) (83, 1)\n",
      "[  17   24   57   62   96  106  702  750  752  889  973 1020 1304 1454\n",
      " 1811 1995 2081 2084 2094 2110 2209 2224 2230 2233 2239 2286 2521 2539\n",
      " 2606 2611 2635 2664 2683 2760 2794 2928 2967 3063 3372 3611 3840 3964\n",
      " 3998 4256 4437 4516 4535 4563 4572 4731 4826 4919 4943 5097 5131 5193\n",
      " 5297 5305 5318 5478 5620 5875 5896 5947 6093 6127 6139 6286 6344 6443\n",
      " 6499 6787 7255 7261 7304 7309 7348 7375 7391 7473 7476 7579 7801]\n",
      "lost: 0 Not disconnected out of the failed: [6344 6443]\n"
     ]
    }
   ],
   "source": [
    "not_disconnected, lost, failed = docs.not_disconnected(adj, failed, verbose=True)"
   ]
  },
  {
   "cell_type": "code",
   "execution_count": 25,
   "metadata": {},
   "outputs": [
    {
     "data": {
      "text/plain": [
       "<matplotlib.image.AxesImage at 0x1a21a47f50>"
      ]
     },
     "execution_count": 25,
     "metadata": {},
     "output_type": "execute_result"
    },
    {
     "data": {
      "image/png": "[encoded data removed]",
      "text/plain": [
       "<Figure size 432x288 with 1 Axes>"
      ]
     },
     "metadata": {
      "needs_background": "light"
     },
     "output_type": "display_data"
    }
   ],
   "source": [
    "adj = adj[not_disconnected, :]\n",
    "adj = adj[:,not_disconnected]\n",
    "plt.spy(adj)"
   ]
  },
  {
   "cell_type": "code",
   "execution_count": 26,
   "metadata": {},
   "outputs": [
    {
     "name": "stdout",
     "output_type": "stream",
     "text": [
      "original failed:  [6344 6443]\n",
      "{17: 0, 24: 1, 57: 2, 62: 3, 96: 4, 106: 5, 702: 6, 750: 7, 752: 8, 889: 9, 973: 10, 1020: 11, 1304: 12, 1454: 13, 1811: 14, 1995: 15, 2081: 16, 2084: 17, 2094: 18, 2110: 19, 2209: 20, 2224: 21, 2230: 22, 2233: 23, 2239: 24, 2286: 25, 2521: 26, 2539: 27, 2606: 28, 2611: 29, 2635: 30, 2664: 31, 2683: 32, 2760: 33, 2794: 34, 2928: 35, 2967: 36, 3063: 37, 3372: 38, 3611: 39, 3840: 40, 3964: 41, 3998: 42, 4256: 43, 4437: 44, 4516: 45, 4535: 46, 4563: 47, 4572: 48, 4731: 49, 4826: 50, 4919: 51, 4943: 52, 5097: 53, 5131: 54, 5193: 55, 5297: 56, 5305: 57, 5318: 58, 5478: 59, 5620: 60, 5875: 61, 5896: 62, 5947: 63, 6093: 64, 6127: 65, 6139: 66, 6286: 67, 6344: 68, 6443: 69, 6499: 70, 6787: 71, 7255: 72, 7261: 73, 7304: 74, 7309: 75, 7348: 76, 7375: 77, 7391: 78, 7473: 79, 7476: 80, 7579: 81, 7801: 82}\n",
      "[ 0  1  2  3  4  5  6  7  8  9 10 11 12 13 14 15 16 17 18 19 20 21 22 23\n",
      " 24 25 26 27 28 29 30 31 32 33 34 35 36 37 38 39 40 41 42 43 44 45 46 47\n",
      " 48 49 50 51 52 53 54 55 56 57 58 59 60 61 62 63 64 65 66 67 68 69 70 71\n",
      " 72 73 74 75 76 77 78 79 80 81 82] [68, 69]\n"
     ]
    }
   ],
   "source": [
    "doc2sim, failed = docs.reindex(verbose=True, failed=failed)"
   ]
  },
  {
   "cell_type": "code",
   "execution_count": 27,
   "metadata": {},
   "outputs": [],
   "source": [
    "patient = {}\n",
    "patient[\"locations\"] = np.hstack(np.array([i*np.ones(NPats) \n",
    "                                    for i, NPats in zip(failed,\n",
    "                                                        docs.NumOfPatients[failed])])).astype(int).squeeze()\n",
    "patient[\"status\"] = np.ones(patient[\"locations\"].shape, dtype=bool)\n",
    "patient[\"displacements\"] = np.zeros(patient[\"locations\"].shape)"
   ]
  },
  {
   "cell_type": "code",
   "execution_count": 28,
   "metadata": {},
   "outputs": [
    {
     "name": "stdout",
     "output_type": "stream",
     "text": [
      "[68 68 68 ... 69 69 69]\n"
     ]
    }
   ],
   "source": [
    "print(patient[\"locations\"])"
   ]
  },
  {
   "cell_type": "code",
   "execution_count": 29,
   "metadata": {
    "scrolled": false
   },
   "outputs": [
    {
     "name": "stdout",
     "output_type": "stream",
     "text": [
      "Active Patients 2705\n",
      "1\n",
      "Lost:  0\n",
      "2\n",
      "Lost:  0\n",
      "3\n",
      "Lost:  0\n",
      "4\n",
      "Lost:  0\n",
      "5\n",
      "Lost:  0\n",
      "6\n",
      "Lost:  0\n",
      "7\n",
      "Lost:  0\n",
      "8\n",
      "Lost:  0\n",
      "9\n",
      "Lost:  0\n",
      "10\n",
      "Lost:  0\n",
      "11\n",
      "Lost:  369\n"
     ]
    }
   ],
   "source": [
    "adj[:,failed] = 0\n",
    "t = 1\n",
    "print(\"Active Patients\",patient[\"status\"].sum())\n",
    "while True:\n",
    "    print(t)\n",
    "    patient, doctors, lost = step(patient, adj, docs, lost, verbose = False)\n",
    "    t+=1\n",
    "    print('Lost: ', lost)\n",
    "    if not np.any(patient[\"status\"]):\n",
    "        break"
   ]
  },
  {
   "cell_type": "code",
   "execution_count": 30,
   "metadata": {},
   "outputs": [
    {
     "name": "stdout",
     "output_type": "stream",
     "text": [
      "369\n",
      "0.13641404805914972\n"
     ]
    }
   ],
   "source": [
    "print(lost)\n",
    "print(lost/totalpatients)"
   ]
  },
  {
   "cell_type": "code",
   "execution_count": 31,
   "metadata": {},
   "outputs": [
    {
     "data": {
      "text/plain": [
       "<matplotlib.axes._subplots.AxesSubplot at 0x1a21ae1d10>"
      ]
     },
     "execution_count": 31,
     "metadata": {},
     "output_type": "execute_result"
    },
    {
     "data": {
      "image/png": "[encoded data removed]",
      "text/plain": [
       "<Figure size 432x288 with 1 Axes>"
      ]
     },
     "metadata": {
      "needs_background": "light"
     },
     "output_type": "display_data"
    }
   ],
   "source": [
    "sns.distplot(patient[\"displacements\"])"
   ]
  },
  {
   "cell_type": "code",
   "execution_count": null,
   "metadata": {},
   "outputs": [],
   "source": []
  }
 ],
 "metadata": {
  "kernelspec": {
   "display_name": "Python 3",
   "language": "python",
   "name": "python3"
  },
  "language_info": {
   "codemirror_mode": {
    "name": "ipython",
    "version": 3
   },
   "file_extension": ".py",
   "mimetype": "text/x-python",
   "name": "python",
   "nbconvert_exporter": "python",
   "pygments_lexer": "ipython3",
   "version": "3.7.4"
  }
 },
 "nbformat": 4,
 "nbformat_minor": 2
}
