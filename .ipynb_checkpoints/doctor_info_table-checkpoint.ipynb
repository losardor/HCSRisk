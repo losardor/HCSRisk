{
 "cells": [
  {
   "cell_type": "markdown",
   "metadata": {},
   "source": [
    "# Combine basic doctor information \n",
    "* load data (choose excel or csv format)\n",
    "* exclude weired patients\n",
    "* find number of unique patients and number of visits per day, then divide into weekdays and weeks of the year\n",
    "* compute mean and max numbers of visits per weekday and in general\n",
    "* create basic table with row for each dotor"
   ]
  },
  {
   "cell_type": "code",
   "execution_count": 1,
   "metadata": {},
   "outputs": [],
   "source": [
    "import pandas as pd\n",
    "import numpy as np"
   ]
  },
  {
   "cell_type": "code",
   "execution_count": 2,
   "metadata": {},
   "outputs": [],
   "source": [
    "### EXCEL (ORIGINAL TEST FILE)\n",
    "D = pd.read_excel('temp.xlsx')\n",
    "\n",
    "### ELMAS RANDOM TEST CSV\n",
    "#D = pd.read_csv('Random_data_for_patient_sharing_network.csv')\n",
    "#D = D.drop(columns='Unnamed: 0')"
   ]
  },
  {
   "cell_type": "code",
   "execution_count": 3,
   "metadata": {},
   "outputs": [],
   "source": [
    "### define data type\n",
    "D.Fachgebietsgruppe = D.Fachgebietsgruppe.astype(str)\n",
    "D.Behandlungsart = D.Behandlungsart.astype(str)\n",
    "D.Kontaktdatum = pd.to_datetime(D.Kontaktdatum.values, infer_datetime_format=True) \n",
    "D['Patient_ID'] = D['Patient_ID'].astype(int)\n",
    "D['GC_Q'] = D['GC_Q'].astype(int)\n",
    "D['Leistungserbringer_ID'] = D['Leistungserbringer_ID'].astype(int)\n",
    "D['GC_Z'] = D['GC_Z'].astype(int)"
   ]
  },
  {
   "cell_type": "code",
   "execution_count": 4,
   "metadata": {},
   "outputs": [
    {
     "name": "stdout",
     "output_type": "stream",
     "text": [
      "patients with no ID:  1\n",
      "patients not from austria:  0\n"
     ]
    }
   ],
   "source": [
    "### delete patients with no ID (==0)\n",
    "print('patients with no ID: ',str(len(D[D['Patient_ID']==0].Patient_ID.drop_duplicates())) )\n",
    "D = D[D['Patient_ID']!=0]\n",
    "\n",
    "### delete patients who are not from austria (==-1)\n",
    "print('patients not from austria: ',str(len(D[D['GC_Q']==-1].Patient_ID.drop_duplicates())) )\n",
    "D = D[D['GC_Q']!=-1]"
   ]
  },
  {
   "cell_type": "markdown",
   "metadata": {},
   "source": [
    "---\n",
    "### Unique patients and total number of visits per day (= each single date)"
   ]
  },
  {
   "cell_type": "code",
   "execution_count": 5,
   "metadata": {},
   "outputs": [],
   "source": [
    "### DF with unique patient counts\n",
    "unique_pats = D[['Patient_ID','Leistungserbringer_ID']].groupby(['Leistungserbringer_ID'])['Patient_ID'].nunique()\n",
    "unique_pats = unique_pats.reset_index()\n",
    "unique_pats.rename(columns={'Patient_ID':'unique_pats'},inplace=True)"
   ]
  },
  {
   "cell_type": "code",
   "execution_count": 6,
   "metadata": {},
   "outputs": [],
   "source": [
    "### DF with total number of visits per day\n",
    "visits_per_day = D[['Leistungserbringer_ID','Kontaktdatum','Patient_ID']].groupby(['Leistungserbringer_ID','Kontaktdatum']).count()\n",
    "visits_per_day = visits_per_day.reset_index()\n",
    "visits_per_day.rename(columns={'Patient_ID':'visits_per_day'},inplace=True)\n",
    "#visits_per_day.drop(columns='Kontaktdatum',inplace=True)"
   ]
  },
  {
   "cell_type": "code",
   "execution_count": 7,
   "metadata": {},
   "outputs": [],
   "source": [
    "### join dataframes\n",
    "D2 = unique_pats.join(visits_per_day.set_index(['Leistungserbringer_ID']),on = ['Leistungserbringer_ID'])"
   ]
  },
  {
   "cell_type": "code",
   "execution_count": 8,
   "metadata": {},
   "outputs": [],
   "source": [
    "### add info on weekday (monday=0)\n",
    "D2['weekday'] = D2.Kontaktdatum.dt.dayofweek"
   ]
  },
  {
   "cell_type": "markdown",
   "metadata": {},
   "source": [
    "---\n",
    "### Mean and max number of visits per weekday"
   ]
  },
  {
   "cell_type": "code",
   "execution_count": 9,
   "metadata": {},
   "outputs": [],
   "source": [
    "### DF with mean number of visits per weekday\n",
    "mean_visits_per_WD = D2[['Leistungserbringer_ID','weekday','visits_per_day']].groupby(['Leistungserbringer_ID','weekday']).mean()\n",
    "mean_visits_per_WD = mean_visits_per_WD.reset_index()\n",
    "mean_visits_per_WD.rename(columns={'visits_per_day':'mean_visits_per_weekday'},inplace=True)"
   ]
  },
  {
   "cell_type": "code",
   "execution_count": 10,
   "metadata": {},
   "outputs": [],
   "source": [
    "D2 = D2.join(mean_visits_per_WD.set_index(['Leistungserbringer_ID','weekday']),on = ['Leistungserbringer_ID','weekday'])"
   ]
  },
  {
   "cell_type": "code",
   "execution_count": 11,
   "metadata": {},
   "outputs": [],
   "source": [
    "### DF with max number of visits per weekday\n",
    "max_visits_per_WD = D2[['Leistungserbringer_ID','weekday','visits_per_day']].groupby(['Leistungserbringer_ID','weekday']).max()\n",
    "max_visits_per_WD = max_visits_per_WD.reset_index()\n",
    "max_visits_per_WD.rename(columns={'visits_per_day':'max_visits_per_weekday'},inplace=True)"
   ]
  },
  {
   "cell_type": "code",
   "execution_count": 12,
   "metadata": {},
   "outputs": [],
   "source": [
    "D2 = D2.join(max_visits_per_WD.set_index(['Leistungserbringer_ID','weekday']),on = ['Leistungserbringer_ID','weekday'])"
   ]
  },
  {
   "cell_type": "code",
   "execution_count": 13,
   "metadata": {},
   "outputs": [],
   "source": [
    "### add info on week (monday=0)\n",
    "D2['week'] = D2.Kontaktdatum.dt.weekofyear"
   ]
  },
  {
   "cell_type": "markdown",
   "metadata": {},
   "source": [
    "---\n",
    "### Mean and max number of visits per week in year"
   ]
  },
  {
   "cell_type": "code",
   "execution_count": 14,
   "metadata": {},
   "outputs": [],
   "source": [
    "### DF with mean number of visits per week\n",
    "mean_visits_per_W = D2[['Leistungserbringer_ID','week','visits_per_day']].groupby(['Leistungserbringer_ID','week']).mean()\n",
    "mean_visits_per_W = mean_visits_per_W.reset_index()\n",
    "mean_visits_per_W.rename(columns={'visits_per_day':'mean_visits_per_week'},inplace=True)"
   ]
  },
  {
   "cell_type": "code",
   "execution_count": 15,
   "metadata": {},
   "outputs": [],
   "source": [
    "### DF with max number of visits per week\n",
    "max_visits_per_W = D2[['Leistungserbringer_ID','week','visits_per_day']].groupby(['Leistungserbringer_ID','week']).max()\n",
    "max_visits_per_W = max_visits_per_W.reset_index()\n",
    "max_visits_per_W.rename(columns={'visits_per_day':'max_visits_per_week'},inplace=True)"
   ]
  },
  {
   "cell_type": "code",
   "execution_count": 16,
   "metadata": {},
   "outputs": [],
   "source": [
    "D2 = D2.join(mean_visits_per_W.set_index(['Leistungserbringer_ID','week']),on = ['Leistungserbringer_ID','week'])"
   ]
  },
  {
   "cell_type": "code",
   "execution_count": 17,
   "metadata": {},
   "outputs": [],
   "source": [
    "D2 = D2.join(max_visits_per_W.set_index(['Leistungserbringer_ID','week']),on = ['Leistungserbringer_ID','week'])"
   ]
  },
  {
   "cell_type": "code",
   "execution_count": null,
   "metadata": {},
   "outputs": [],
   "source": [
    "### sorting just to have a nice look at data - probably not a good idea for 6GB data\n",
    "#D2 = D2.drop_duplicates().sort_values(by=['Leistungserbringer_ID','week'])"
   ]
  },
  {
   "cell_type": "markdown",
   "metadata": {},
   "source": [
    "---\n",
    "### General mean and max numbers of visits \n",
    "* mean_visits = mean(mean_visits_per_weekday)\n",
    "* max_visits = max(max_visits_per_weekday)"
   ]
  },
  {
   "cell_type": "code",
   "execution_count": 18,
   "metadata": {},
   "outputs": [],
   "source": [
    "### DF with mean of mean number of visits per weekday\n",
    "mean_visits = D2[['Leistungserbringer_ID','mean_visits_per_weekday']].groupby(['Leistungserbringer_ID']).mean()\n",
    "mean_visits = mean_visits.reset_index()\n",
    "mean_visits.rename(columns={'mean_visits_per_weekday':'mean_visits'},inplace=True)"
   ]
  },
  {
   "cell_type": "code",
   "execution_count": 19,
   "metadata": {},
   "outputs": [],
   "source": [
    "### DF with max of max number of visits per weekday\n",
    "max_visits = D2[['Leistungserbringer_ID','max_visits_per_weekday']].groupby(['Leistungserbringer_ID']).max()\n",
    "max_visits = max_visits.reset_index()\n",
    "max_visits.rename(columns={'max_visits_per_weekday':'max_visits'},inplace=True)"
   ]
  },
  {
   "cell_type": "code",
   "execution_count": 20,
   "metadata": {},
   "outputs": [],
   "source": [
    "D2 = D2.join(mean_visits.set_index(['Leistungserbringer_ID']),on = ['Leistungserbringer_ID'])"
   ]
  },
  {
   "cell_type": "code",
   "execution_count": 21,
   "metadata": {},
   "outputs": [],
   "source": [
    "D2 = D2.join(max_visits.set_index(['Leistungserbringer_ID']),on = ['Leistungserbringer_ID'])"
   ]
  },
  {
   "cell_type": "markdown",
   "metadata": {},
   "source": [
    "---\n",
    "### Combine into a DF with basic info \n",
    "* one row per doctor"
   ]
  },
  {
   "cell_type": "code",
   "execution_count": 22,
   "metadata": {},
   "outputs": [],
   "source": [
    "Basic = D2.join(D[['Leistungserbringer_ID','GC_Z']].set_index('Leistungserbringer_ID'),on='Leistungserbringer_ID')"
   ]
  },
  {
   "cell_type": "code",
   "execution_count": 23,
   "metadata": {},
   "outputs": [],
   "source": [
    "Basic.drop(columns=['Kontaktdatum','mean_visits_per_week','max_visits_per_week','visits_per_day','weekday','week','max_visits_per_weekday','mean_visits_per_weekday'],inplace=True)"
   ]
  },
  {
   "cell_type": "code",
   "execution_count": 24,
   "metadata": {},
   "outputs": [],
   "source": [
    "#Basic.drop(columns='GC_Z',inplace=True)"
   ]
  },
  {
   "cell_type": "code",
   "execution_count": 25,
   "metadata": {},
   "outputs": [],
   "source": [
    "Basic = Basic.drop_duplicates().sort_values(by='Leistungserbringer_ID')"
   ]
  },
  {
   "cell_type": "code",
   "execution_count": 26,
   "metadata": {},
   "outputs": [],
   "source": [
    "### mean and max visist per weekday...\n",
    "monday = D2.loc[D2.weekday==0,['Leistungserbringer_ID','mean_visits_per_weekday','max_visits_per_weekday']]\n",
    "monday.rename(columns={'mean_visits_per_weekday':'mean_visits_monday','max_visits_per_weekday':'max_visits_monday'},inplace=True)\n",
    "\n",
    "tuesday = D2.loc[D2.weekday==1,['Leistungserbringer_ID','mean_visits_per_weekday','max_visits_per_weekday']]\n",
    "tuesday.rename(columns={'mean_visits_per_weekday':'mean_visits_tuesday','max_visits_per_weekday':'max_visits_tuesday'},inplace=True)\n",
    "\n",
    "wednesday = D2.loc[D2.weekday==2,['Leistungserbringer_ID','mean_visits_per_weekday','max_visits_per_weekday']]\n",
    "wednesday.rename(columns={'mean_visits_per_weekday':'mean_visits_wednesday','max_visits_per_weekday':'max_visits_wednesday'},inplace=True)\n",
    "\n",
    "thursday = D2.loc[D2.weekday==3,['Leistungserbringer_ID','mean_visits_per_weekday','max_visits_per_weekday']]\n",
    "thursday.rename(columns={'mean_visits_per_weekday':'mean_visits_thursday','max_visits_per_weekday':'max_visits_thursday'},inplace=True)\n",
    "\n",
    "friday = D2.loc[D2.weekday==4,['Leistungserbringer_ID','mean_visits_per_weekday','max_visits_per_weekday']]\n",
    "friday.rename(columns={'mean_visits_per_weekday':'mean_visits_friday','max_visits_per_weekday':'max_visits_friday'},inplace=True)\n",
    "\n",
    "saturday = D2.loc[D2.weekday==5,['Leistungserbringer_ID','mean_visits_per_weekday','max_visits_per_weekday']]\n",
    "saturday.rename(columns={'mean_visits_per_weekday':'mean_visits_saturday','max_visits_per_weekday':'max_visits_saturday'},inplace=True)\n",
    "\n",
    "sunday = D2.loc[D2.weekday==6,['Leistungserbringer_ID','mean_visits_per_weekday','max_visits_per_weekday']]\n",
    "sunday.rename(columns={'mean_visits_per_weekday':'mean_visits_sunday','max_visits_per_weekday':'max_visits_sunday'},inplace=True)"
   ]
  },
  {
   "cell_type": "code",
   "execution_count": 27,
   "metadata": {},
   "outputs": [],
   "source": [
    "### put all into Basic\n",
    "Basic = Basic.join(monday.set_index('Leistungserbringer_ID'),on='Leistungserbringer_ID')\n",
    "Basic = Basic.join(tuesday.set_index('Leistungserbringer_ID'),on='Leistungserbringer_ID')\n",
    "Basic = Basic.join(wednesday.set_index('Leistungserbringer_ID'),on='Leistungserbringer_ID')\n",
    "Basic = Basic.join(thursday.set_index('Leistungserbringer_ID'),on='Leistungserbringer_ID')\n",
    "Basic = Basic.join(friday.set_index('Leistungserbringer_ID'),on='Leistungserbringer_ID')\n",
    "Basic = Basic.join(saturday.set_index('Leistungserbringer_ID'),on='Leistungserbringer_ID')\n",
    "Basic = Basic.join(sunday.set_index('Leistungserbringer_ID'),on='Leistungserbringer_ID')"
   ]
  },
  {
   "cell_type": "code",
   "execution_count": 28,
   "metadata": {},
   "outputs": [
    {
     "data": {
      "text/html": [
       "<div>\n",
       "<style scoped>\n",
       "    .dataframe tbody tr th:only-of-type {\n",
       "        vertical-align: middle;\n",
       "    }\n",
       "\n",
       "    .dataframe tbody tr th {\n",
       "        vertical-align: top;\n",
       "    }\n",
       "\n",
       "    .dataframe thead th {\n",
       "        text-align: right;\n",
       "    }\n",
       "</style>\n",
       "<table border=\"1\" class=\"dataframe\">\n",
       "  <thead>\n",
       "    <tr style=\"text-align: right;\">\n",
       "      <th></th>\n",
       "      <th>Leistungserbringer_ID</th>\n",
       "      <th>unique_pats</th>\n",
       "      <th>Kontaktdatum</th>\n",
       "      <th>visits_per_day</th>\n",
       "      <th>weekday</th>\n",
       "      <th>mean_visits_per_weekday</th>\n",
       "      <th>max_visits_per_weekday</th>\n",
       "      <th>week</th>\n",
       "      <th>mean_visits_per_week</th>\n",
       "      <th>max_visits_per_week</th>\n",
       "      <th>mean_visits</th>\n",
       "      <th>max_visits</th>\n",
       "    </tr>\n",
       "  </thead>\n",
       "  <tbody>\n",
       "    <tr>\n",
       "      <th>0</th>\n",
       "      <td>3812</td>\n",
       "      <td>1</td>\n",
       "      <td>2018-08-08</td>\n",
       "      <td>1</td>\n",
       "      <td>2</td>\n",
       "      <td>1</td>\n",
       "      <td>1</td>\n",
       "      <td>32</td>\n",
       "      <td>1</td>\n",
       "      <td>1</td>\n",
       "      <td>1</td>\n",
       "      <td>1</td>\n",
       "    </tr>\n",
       "    <tr>\n",
       "      <th>1</th>\n",
       "      <td>1009364</td>\n",
       "      <td>1</td>\n",
       "      <td>2018-12-19</td>\n",
       "      <td>1</td>\n",
       "      <td>2</td>\n",
       "      <td>1</td>\n",
       "      <td>1</td>\n",
       "      <td>51</td>\n",
       "      <td>1</td>\n",
       "      <td>1</td>\n",
       "      <td>1</td>\n",
       "      <td>1</td>\n",
       "    </tr>\n",
       "    <tr>\n",
       "      <th>2</th>\n",
       "      <td>7851329</td>\n",
       "      <td>1</td>\n",
       "      <td>2018-03-07</td>\n",
       "      <td>1</td>\n",
       "      <td>2</td>\n",
       "      <td>1</td>\n",
       "      <td>1</td>\n",
       "      <td>10</td>\n",
       "      <td>1</td>\n",
       "      <td>1</td>\n",
       "      <td>1</td>\n",
       "      <td>1</td>\n",
       "    </tr>\n",
       "    <tr>\n",
       "      <th>3</th>\n",
       "      <td>22593852</td>\n",
       "      <td>1</td>\n",
       "      <td>2018-09-18</td>\n",
       "      <td>1</td>\n",
       "      <td>1</td>\n",
       "      <td>1</td>\n",
       "      <td>1</td>\n",
       "      <td>38</td>\n",
       "      <td>1</td>\n",
       "      <td>1</td>\n",
       "      <td>1</td>\n",
       "      <td>1</td>\n",
       "    </tr>\n",
       "    <tr>\n",
       "      <th>4</th>\n",
       "      <td>57515485</td>\n",
       "      <td>1</td>\n",
       "      <td>2018-07-10</td>\n",
       "      <td>1</td>\n",
       "      <td>1</td>\n",
       "      <td>1</td>\n",
       "      <td>1</td>\n",
       "      <td>28</td>\n",
       "      <td>1</td>\n",
       "      <td>1</td>\n",
       "      <td>1</td>\n",
       "      <td>1</td>\n",
       "    </tr>\n",
       "  </tbody>\n",
       "</table>\n",
       "</div>"
      ],
      "text/plain": [
       "   Leistungserbringer_ID  unique_pats Kontaktdatum  visits_per_day  weekday  \\\n",
       "0                   3812            1   2018-08-08               1        2   \n",
       "1                1009364            1   2018-12-19               1        2   \n",
       "2                7851329            1   2018-03-07               1        2   \n",
       "3               22593852            1   2018-09-18               1        1   \n",
       "4               57515485            1   2018-07-10               1        1   \n",
       "\n",
       "   mean_visits_per_weekday  max_visits_per_weekday  week  \\\n",
       "0                        1                       1    32   \n",
       "1                        1                       1    51   \n",
       "2                        1                       1    10   \n",
       "3                        1                       1    38   \n",
       "4                        1                       1    28   \n",
       "\n",
       "   mean_visits_per_week  max_visits_per_week  mean_visits  max_visits  \n",
       "0                     1                    1            1           1  \n",
       "1                     1                    1            1           1  \n",
       "2                     1                    1            1           1  \n",
       "3                     1                    1            1           1  \n",
       "4                     1                    1            1           1  "
      ]
     },
     "execution_count": 28,
     "metadata": {},
     "output_type": "execute_result"
    }
   ],
   "source": [
    "D2.head()"
   ]
  },
  {
   "cell_type": "code",
   "execution_count": 29,
   "metadata": {},
   "outputs": [
    {
     "data": {
      "text/html": [
       "<div>\n",
       "<style scoped>\n",
       "    .dataframe tbody tr th:only-of-type {\n",
       "        vertical-align: middle;\n",
       "    }\n",
       "\n",
       "    .dataframe tbody tr th {\n",
       "        vertical-align: top;\n",
       "    }\n",
       "\n",
       "    .dataframe thead th {\n",
       "        text-align: right;\n",
       "    }\n",
       "</style>\n",
       "<table border=\"1\" class=\"dataframe\">\n",
       "  <thead>\n",
       "    <tr style=\"text-align: right;\">\n",
       "      <th></th>\n",
       "      <th>Leistungserbringer_ID</th>\n",
       "      <th>unique_pats</th>\n",
       "      <th>mean_visits</th>\n",
       "      <th>max_visits</th>\n",
       "      <th>GC_Z</th>\n",
       "      <th>mean_visits_monday</th>\n",
       "      <th>max_visits_monday</th>\n",
       "      <th>mean_visits_tuesday</th>\n",
       "      <th>max_visits_tuesday</th>\n",
       "      <th>mean_visits_wednesday</th>\n",
       "      <th>max_visits_wednesday</th>\n",
       "      <th>mean_visits_thursday</th>\n",
       "      <th>max_visits_thursday</th>\n",
       "      <th>mean_visits_friday</th>\n",
       "      <th>max_visits_friday</th>\n",
       "      <th>mean_visits_saturday</th>\n",
       "      <th>max_visits_saturday</th>\n",
       "      <th>mean_visits_sunday</th>\n",
       "      <th>max_visits_sunday</th>\n",
       "    </tr>\n",
       "  </thead>\n",
       "  <tbody>\n",
       "    <tr>\n",
       "      <th>0</th>\n",
       "      <td>3812</td>\n",
       "      <td>1</td>\n",
       "      <td>1</td>\n",
       "      <td>1</td>\n",
       "      <td>70926</td>\n",
       "      <td>NaN</td>\n",
       "      <td>NaN</td>\n",
       "      <td>NaN</td>\n",
       "      <td>NaN</td>\n",
       "      <td>1.0</td>\n",
       "      <td>1.0</td>\n",
       "      <td>NaN</td>\n",
       "      <td>NaN</td>\n",
       "      <td>NaN</td>\n",
       "      <td>NaN</td>\n",
       "      <td>NaN</td>\n",
       "      <td>NaN</td>\n",
       "      <td>NaN</td>\n",
       "      <td>NaN</td>\n",
       "    </tr>\n",
       "    <tr>\n",
       "      <th>1</th>\n",
       "      <td>1009364</td>\n",
       "      <td>1</td>\n",
       "      <td>1</td>\n",
       "      <td>1</td>\n",
       "      <td>20201</td>\n",
       "      <td>NaN</td>\n",
       "      <td>NaN</td>\n",
       "      <td>NaN</td>\n",
       "      <td>NaN</td>\n",
       "      <td>1.0</td>\n",
       "      <td>1.0</td>\n",
       "      <td>NaN</td>\n",
       "      <td>NaN</td>\n",
       "      <td>NaN</td>\n",
       "      <td>NaN</td>\n",
       "      <td>NaN</td>\n",
       "      <td>NaN</td>\n",
       "      <td>NaN</td>\n",
       "      <td>NaN</td>\n",
       "    </tr>\n",
       "    <tr>\n",
       "      <th>2</th>\n",
       "      <td>7851329</td>\n",
       "      <td>1</td>\n",
       "      <td>1</td>\n",
       "      <td>1</td>\n",
       "      <td>41402</td>\n",
       "      <td>NaN</td>\n",
       "      <td>NaN</td>\n",
       "      <td>NaN</td>\n",
       "      <td>NaN</td>\n",
       "      <td>1.0</td>\n",
       "      <td>1.0</td>\n",
       "      <td>NaN</td>\n",
       "      <td>NaN</td>\n",
       "      <td>NaN</td>\n",
       "      <td>NaN</td>\n",
       "      <td>NaN</td>\n",
       "      <td>NaN</td>\n",
       "      <td>NaN</td>\n",
       "      <td>NaN</td>\n",
       "    </tr>\n",
       "    <tr>\n",
       "      <th>3</th>\n",
       "      <td>22593852</td>\n",
       "      <td>1</td>\n",
       "      <td>1</td>\n",
       "      <td>1</td>\n",
       "      <td>20201</td>\n",
       "      <td>NaN</td>\n",
       "      <td>NaN</td>\n",
       "      <td>1.0</td>\n",
       "      <td>1.0</td>\n",
       "      <td>NaN</td>\n",
       "      <td>NaN</td>\n",
       "      <td>NaN</td>\n",
       "      <td>NaN</td>\n",
       "      <td>NaN</td>\n",
       "      <td>NaN</td>\n",
       "      <td>NaN</td>\n",
       "      <td>NaN</td>\n",
       "      <td>NaN</td>\n",
       "      <td>NaN</td>\n",
       "    </tr>\n",
       "    <tr>\n",
       "      <th>4</th>\n",
       "      <td>57515485</td>\n",
       "      <td>1</td>\n",
       "      <td>1</td>\n",
       "      <td>1</td>\n",
       "      <td>40703</td>\n",
       "      <td>NaN</td>\n",
       "      <td>NaN</td>\n",
       "      <td>1.0</td>\n",
       "      <td>1.0</td>\n",
       "      <td>NaN</td>\n",
       "      <td>NaN</td>\n",
       "      <td>NaN</td>\n",
       "      <td>NaN</td>\n",
       "      <td>NaN</td>\n",
       "      <td>NaN</td>\n",
       "      <td>NaN</td>\n",
       "      <td>NaN</td>\n",
       "      <td>NaN</td>\n",
       "      <td>NaN</td>\n",
       "    </tr>\n",
       "  </tbody>\n",
       "</table>\n",
       "</div>"
      ],
      "text/plain": [
       "   Leistungserbringer_ID  unique_pats  mean_visits  max_visits   GC_Z  \\\n",
       "0                   3812            1            1           1  70926   \n",
       "1                1009364            1            1           1  20201   \n",
       "2                7851329            1            1           1  41402   \n",
       "3               22593852            1            1           1  20201   \n",
       "4               57515485            1            1           1  40703   \n",
       "\n",
       "   mean_visits_monday  max_visits_monday  mean_visits_tuesday  \\\n",
       "0                 NaN                NaN                  NaN   \n",
       "1                 NaN                NaN                  NaN   \n",
       "2                 NaN                NaN                  NaN   \n",
       "3                 NaN                NaN                  1.0   \n",
       "4                 NaN                NaN                  1.0   \n",
       "\n",
       "   max_visits_tuesday  mean_visits_wednesday  max_visits_wednesday  \\\n",
       "0                 NaN                    1.0                   1.0   \n",
       "1                 NaN                    1.0                   1.0   \n",
       "2                 NaN                    1.0                   1.0   \n",
       "3                 1.0                    NaN                   NaN   \n",
       "4                 1.0                    NaN                   NaN   \n",
       "\n",
       "   mean_visits_thursday  max_visits_thursday  mean_visits_friday  \\\n",
       "0                   NaN                  NaN                 NaN   \n",
       "1                   NaN                  NaN                 NaN   \n",
       "2                   NaN                  NaN                 NaN   \n",
       "3                   NaN                  NaN                 NaN   \n",
       "4                   NaN                  NaN                 NaN   \n",
       "\n",
       "   max_visits_friday  mean_visits_saturday  max_visits_saturday  \\\n",
       "0                NaN                   NaN                  NaN   \n",
       "1                NaN                   NaN                  NaN   \n",
       "2                NaN                   NaN                  NaN   \n",
       "3                NaN                   NaN                  NaN   \n",
       "4                NaN                   NaN                  NaN   \n",
       "\n",
       "   mean_visits_sunday  max_visits_sunday  \n",
       "0                 NaN                NaN  \n",
       "1                 NaN                NaN  \n",
       "2                 NaN                NaN  \n",
       "3                 NaN                NaN  \n",
       "4                 NaN                NaN  "
      ]
     },
     "execution_count": 29,
     "metadata": {},
     "output_type": "execute_result"
    }
   ],
   "source": [
    "Basic.head()"
   ]
  },
  {
   "cell_type": "code",
   "execution_count": null,
   "metadata": {},
   "outputs": [],
   "source": []
  }
 ],
 "metadata": {
  "kernelspec": {
   "display_name": "Python 3",
   "language": "python",
   "name": "python3"
  },
  "language_info": {
   "codemirror_mode": {
    "name": "ipython",
    "version": 3
   },
   "file_extension": ".py",
   "mimetype": "text/x-python",
   "name": "python",
   "nbconvert_exporter": "python",
   "pygments_lexer": "ipython3",
   "version": "3.7.4"
  },
  "toc": {
   "base_numbering": 1,
   "nav_menu": {},
   "number_sections": true,
   "sideBar": true,
   "skip_h1_title": false,
   "title_cell": "Table of Contents",
   "title_sidebar": "Contents",
   "toc_cell": false,
   "toc_position": {},
   "toc_section_display": true,
   "toc_window_display": false
  }
 },
 "nbformat": 4,
 "nbformat_minor": 2
}
