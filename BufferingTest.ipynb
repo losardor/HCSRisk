{
 "cells": [
  {
   "cell_type": "code",
   "execution_count": 1,
   "metadata": {
    "ExecuteTime": {
     "end_time": "2020-05-07T13:30:18.867422Z",
     "start_time": "2020-05-07T13:30:18.863442Z"
    }
   },
   "outputs": [
    {
     "name": "stdout",
     "output_type": "stream",
     "text": [
      "0\n",
      "1\n",
      "2\n",
      "3\n",
      "4\n",
      "5\n",
      "6\n",
      "7\n",
      "8\n",
      "9\n"
     ]
    }
   ],
   "source": [
    "for i in range(10):\n",
    "    print(i)"
   ]
  },
  {
   "cell_type": "markdown",
   "metadata": {},
   "source": [
    "#  Find  unique patient and doctor Ids"
   ]
  },
  {
   "cell_type": "code",
   "execution_count": 2,
   "metadata": {
    "ExecuteTime": {
     "end_time": "2020-05-09T08:33:19.889752Z",
     "start_time": "2020-05-07T13:30:21.027616Z"
    }
   },
   "outputs": [
    {
     "ename": "KeyboardInterrupt",
     "evalue": "",
     "output_type": "error",
     "traceback": [
      "\u001b[0;31m---------------------------------------------------------------------------\u001b[0m",
      "\u001b[0;31mKeyboardInterrupt\u001b[0m                         Traceback (most recent call last)",
      "\u001b[0;32m<ipython-input-2-dd4dee264216>\u001b[0m in \u001b[0;36m<module>\u001b[0;34m\u001b[0m\n\u001b[1;32m      8\u001b[0m         \u001b[0;32mif\u001b[0m \u001b[0msaveLine\u001b[0m\u001b[0;34m[\u001b[0m\u001b[0;36m1\u001b[0m\u001b[0;34m]\u001b[0m \u001b[0;32mnot\u001b[0m \u001b[0;32min\u001b[0m \u001b[0mdocIds\u001b[0m\u001b[0;34m:\u001b[0m\u001b[0;34m\u001b[0m\u001b[0;34m\u001b[0m\u001b[0m\n\u001b[1;32m      9\u001b[0m             \u001b[0mdocIds\u001b[0m\u001b[0;34m.\u001b[0m\u001b[0mappend\u001b[0m\u001b[0;34m(\u001b[0m\u001b[0msaveLine\u001b[0m\u001b[0;34m[\u001b[0m\u001b[0;36m1\u001b[0m\u001b[0;34m]\u001b[0m\u001b[0;34m)\u001b[0m\u001b[0;34m\u001b[0m\u001b[0;34m\u001b[0m\u001b[0m\n\u001b[0;32m---> 10\u001b[0;31m         \u001b[0;32mif\u001b[0m \u001b[0msaveLine\u001b[0m\u001b[0;34m[\u001b[0m\u001b[0;36m2\u001b[0m\u001b[0;34m]\u001b[0m \u001b[0;32mnot\u001b[0m \u001b[0;32min\u001b[0m \u001b[0mpatIds\u001b[0m\u001b[0;34m:\u001b[0m\u001b[0;34m\u001b[0m\u001b[0;34m\u001b[0m\u001b[0m\n\u001b[0m\u001b[1;32m     11\u001b[0m             \u001b[0mpatIds\u001b[0m\u001b[0;34m.\u001b[0m\u001b[0mappend\u001b[0m\u001b[0;34m(\u001b[0m\u001b[0msaveLine\u001b[0m\u001b[0;34m[\u001b[0m\u001b[0;36m3\u001b[0m\u001b[0;34m]\u001b[0m\u001b[0;34m)\u001b[0m\u001b[0;34m\u001b[0m\u001b[0;34m\u001b[0m\u001b[0m\n",
      "\u001b[0;31mKeyboardInterrupt\u001b[0m: "
     ]
    }
   ],
   "source": [
    "output = open('exampleOutput.csv', 'a')\n",
    "docIds = []\n",
    "patIds = []\n",
    "with open('kontakte 2018.csv','r',buffering = 20000000)as f:\n",
    "    for line in f:\n",
    "        sLine = line.split(';')\n",
    "        saveLine = \",\".join([sLine[i] for i in (2,3,5)])\n",
    "        if saveLine[1] not in docIds:\n",
    "            docIds.append(saveLine[1])\n",
    "        if saveLine[2] not in patIds:\n",
    "            patIds.append(saveLine[3])"
   ]
  },
  {
   "cell_type": "code",
   "execution_count": 3,
   "metadata": {
    "ExecuteTime": {
     "end_time": "2020-05-09T08:33:33.774284Z",
     "start_time": "2020-05-09T08:33:33.765172Z"
    }
   },
   "outputs": [
    {
     "ename": "NameError",
     "evalue": "name 'patiIDs' is not defined",
     "output_type": "error",
     "traceback": [
      "\u001b[0;31m---------------------------------------------------------------------------\u001b[0m",
      "\u001b[0;31mNameError\u001b[0m                                 Traceback (most recent call last)",
      "\u001b[0;32m<ipython-input-3-1dbea1480231>\u001b[0m in \u001b[0;36m<module>\u001b[0;34m\u001b[0m\n\u001b[0;32m----> 1\u001b[0;31m \u001b[0mpatiIDs\u001b[0m\u001b[0;34m\u001b[0m\u001b[0;34m\u001b[0m\u001b[0m\n\u001b[0m",
      "\u001b[0;31mNameError\u001b[0m: name 'patiIDs' is not defined"
     ]
    }
   ],
   "source": [
    "patiIDs"
   ]
  },
  {
   "cell_type": "code",
   "execution_count": 5,
   "metadata": {
    "ExecuteTime": {
     "end_time": "2020-05-09T08:34:13.545658Z",
     "start_time": "2020-05-09T08:34:13.421923Z"
    }
   },
   "outputs": [
    {
     "name": "stdout",
     "output_type": "stream",
     "text": [
      "Fachgebietsgruppe;Behandlungsart;Kontaktdatum;Patient-ID;GC (Q);Leistungserbringer-ID;GC (Z);\r",
      "\r\n",
      "URO;E;09.02.2018;5842900;62146;459990056;62140;\r",
      "\r\n",
      "ORTR;E;15.03.2018;3896706;62140;1815205814;62140;\r",
      "\r\n",
      "URO;E;10.01.2018;2066644;62140;459990056;62140;\r",
      "\r\n",
      "ORTR;E;30.01.2018;5818132;62140;1815205814;62140;\r",
      "\r\n",
      "ORTR;E;21.03.2018;2655282;62140;1815205814;62140;\r",
      "\r\n",
      "URO;E;20.03.2018;2635020;62140;459990056;62140;\r",
      "\r\n",
      "ORTR;E;11.01.2018;5571976;62139;1815205814;62140;\r",
      "\r\n",
      "URO;E;08.03.2018;5867746;62146;459990056;62140;\r",
      "\r\n",
      "URO;E;16.02.2018;2635020;62140;459990056;62140;\r",
      "\r\n"
     ]
    }
   ],
   "source": [
    "! head data/kontakte\\ 2018.csv"
   ]
  },
  {
   "cell_type": "code",
   "execution_count": null,
   "metadata": {},
   "outputs": [],
   "source": []
  }
 ],
 "metadata": {
  "kernelspec": {
   "display_name": "Python 3",
   "language": "python",
   "name": "python3"
  },
  "toc": {
   "base_numbering": 1,
   "nav_menu": {},
   "number_sections": true,
   "sideBar": true,
   "skip_h1_title": false,
   "title_cell": "Table of Contents",
   "title_sidebar": "Contents",
   "toc_cell": false,
   "toc_position": {},
   "toc_section_display": true,
   "toc_window_display": false
  }
 },
 "nbformat": 4,
 "nbformat_minor": 2
}
